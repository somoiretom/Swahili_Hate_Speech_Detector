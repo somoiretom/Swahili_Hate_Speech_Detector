{
 "cells": [
  {
   "cell_type": "code",
   "execution_count": 80,
   "id": "da0e5868-74e7-4ac3-a102-f6ec6bc2d027",
   "metadata": {},
   "outputs": [],
   "source": [
    "import tkinter as tk\n",
    "from tkinter import messagebox\n",
    "\n",
    "def classify_text():\n",
    "    input_text = text_entry.get(\"1.0\", \"end-1c\")\n",
    "    result = classify_hate_speech(input_text)  # Placeholder for classification function\n",
    "    messagebox.showinfo(\"Classification Result\", result)\n",
    "\n",
    "# Main Window\n",
    "root = tk.Tk()\n",
    "root.title(\"Somoire Kiswahili Hate Speech Detector\")\n",
    "\n",
    "# Text box for input\n",
    "text_entry = tk.Text(root, height=10, width=50)\n",
    "text_entry.pack()\n",
    "\n",
    "# Button to classify the text\n",
    "classify_button = tk.Button(root, text=\"Classify\", command=classify_text)\n",
    "classify_button.pack()\n",
    "\n",
    "# Running the application\n",
    "root.mainloop()"
   ]
  },
  {
   "cell_type": "code",
   "execution_count": 81,
   "id": "99142fe6-58b1-4d70-a507-32593e90cf9b",
   "metadata": {},
   "outputs": [],
   "source": [
    "import pandas as pd\n",
    "import re\n",
    "from sklearn.preprocessing import LabelEncoder\n",
    "\n",
    "# Loading the dataset\n",
    "data = pd.read_csv('Swahili_Text.csv')\n",
    "\n",
    "# Text cleaning function\n",
    "def clean_text(text):\n",
    "    text = re.sub(r'[^a-zA-Z\\s]', '', text)  # Remove special characters and numbers\n",
    "    return text.lower().strip()\n",
    "\n",
    "# Apply cleaning\n",
    "data['cleaned_text'] = data['Text'].apply(clean_text)\n",
    "\n",
    "# Label encoding\n",
    "label_encoder = LabelEncoder()\n",
    "data['label'] = label_encoder.fit_transform(data['Label'])"
   ]
  },
  {
   "cell_type": "code",
   "execution_count": 82,
   "id": "c4ad9515-6b23-4f05-9198-030a7281d929",
   "metadata": {},
   "outputs": [],
   "source": [
    "from sklearn.feature_extraction.text import TfidfVectorizer\n",
    "\n",
    "# Initializing TF-IDF Vectorizer\n",
    "vectorizer = TfidfVectorizer()\n",
    "X = vectorizer.fit_transform(data['cleaned_text'])\n",
    "y = data['label']"
   ]
  },
  {
   "cell_type": "code",
   "execution_count": 83,
   "id": "08568248-2bb2-4cef-8366-2ba81f65add6",
   "metadata": {},
   "outputs": [
    {
     "name": "stdout",
     "output_type": "stream",
     "text": [
      "              precision    recall  f1-score   support\n",
      "\n",
      "           0       0.95      0.93      0.94        42\n",
      "           1       0.98      0.93      0.96        58\n",
      "           2       0.86      0.94      0.90        47\n",
      "\n",
      "    accuracy                           0.93       147\n",
      "   macro avg       0.93      0.93      0.93       147\n",
      "weighted avg       0.94      0.93      0.93       147\n",
      "\n"
     ]
    }
   ],
   "source": [
    "from sklearn.model_selection import train_test_split\n",
    "from sklearn.linear_model import LogisticRegression\n",
    "from sklearn.metrics import classification_report\n",
    "\n",
    "# Splitting the dataset\n",
    "X_train, X_test, y_train, y_test = train_test_split(X, y, test_size=0.2, random_state=42)\n",
    "model = LogisticRegression(max_iter=1000)\n",
    "model.fit(X_train, y_train)\n",
    "\n",
    "# Testing the model and displayin the results\n",
    "predictions = model.predict(X_test)\n",
    "print(classification_report(y_test, predictions))"
   ]
  },
  {
   "cell_type": "code",
   "execution_count": null,
   "id": "836cf87a-50f1-4cef-a317-c42dce1ae5d9",
   "metadata": {},
   "outputs": [],
   "source": []
  }
 ],
 "metadata": {
  "kernelspec": {
   "display_name": "Python 3 (ipykernel)",
   "language": "python",
   "name": "python3"
  },
  "language_info": {
   "codemirror_mode": {
    "name": "ipython",
    "version": 3
   },
   "file_extension": ".py",
   "mimetype": "text/x-python",
   "name": "python",
   "nbconvert_exporter": "python",
   "pygments_lexer": "ipython3",
   "version": "3.12.4"
  }
 },
 "nbformat": 4,
 "nbformat_minor": 5
}
